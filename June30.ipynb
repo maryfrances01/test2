{
 "cells": [
  {
   "cell_type": "code",
   "execution_count": 1,
   "id": "a1a568ee-4e8c-4ea9-80f3-f7b77e036e21",
   "metadata": {},
   "outputs": [
    {
     "name": "stdout",
     "output_type": "stream",
     "text": [
      "hello world!\n"
     ]
    }
   ],
   "source": [
    "print(\"hello world!\")"
   ]
  },
  {
   "cell_type": "code",
   "execution_count": 2,
   "id": "13866748-ad22-471e-b7d1-43850a15286e",
   "metadata": {},
   "outputs": [],
   "source": [
    "my_list = ['a','b']"
   ]
  },
  {
   "cell_type": "code",
   "execution_count": 3,
   "id": "e5ccda7f-c1e6-458e-800a-302385c32de4",
   "metadata": {},
   "outputs": [
    {
     "data": {
      "text/plain": [
       "['a', 'b']"
      ]
     },
     "execution_count": 3,
     "metadata": {},
     "output_type": "execute_result"
    }
   ],
   "source": [
    "my_list"
   ]
  },
  {
   "cell_type": "code",
   "execution_count": 4,
   "id": "40a2e363-4fcc-456d-b6e8-092f214d69da",
   "metadata": {},
   "outputs": [
    {
     "name": "stdout",
     "output_type": "stream",
     "text": [
      "something else\n"
     ]
    }
   ],
   "source": [
    "print(\"something else\")"
   ]
  },
  {
   "cell_type": "code",
   "execution_count": null,
   "id": "7361f6a0-0493-489d-aae2-251eb6e7dd70",
   "metadata": {},
   "outputs": [],
   "source": []
  }
 ],
 "metadata": {
  "kernelspec": {
   "display_name": "Python 3",
   "language": "python",
   "name": "python3"
  },
  "language_info": {
   "codemirror_mode": {
    "name": "ipython",
    "version": 3
   },
   "file_extension": ".py",
   "mimetype": "text/x-python",
   "name": "python",
   "nbconvert_exporter": "python",
   "pygments_lexer": "ipython3",
   "version": "3.8.6"
  }
 },
 "nbformat": 4,
 "nbformat_minor": 5
}
